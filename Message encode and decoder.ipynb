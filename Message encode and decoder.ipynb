{
 "cells": [
  {
   "cell_type": "code",
   "execution_count": 1,
   "id": "6d7443f5",
   "metadata": {},
   "outputs": [],
   "source": [
    "from tkinter import *\n",
    "import base64"
   ]
  },
  {
   "cell_type": "code",
   "execution_count": 2,
   "id": "a0a4061e",
   "metadata": {},
   "outputs": [
    {
     "data": {
      "text/plain": [
       "''"
      ]
     },
     "execution_count": 2,
     "metadata": {},
     "output_type": "execute_result"
    }
   ],
   "source": [
    "root = Tk()\n",
    "\n",
    "root.geometry('500x300')\n",
    "root.resizable(0,0)\n",
    "root.title(\"DataFlair - Message Encode and Decode\")"
   ]
  },
  {
   "cell_type": "code",
   "execution_count": 3,
   "id": "b0a2b2d2",
   "metadata": {},
   "outputs": [],
   "source": [
    "Label(root, text ='ENCODE DECODE', font = 'arial 20 bold').pack()\n",
    "\n",
    "Label(root, text ='DataFlair', font = 'arial 20 bold').pack(side =BOTTOM)"
   ]
  },
  {
   "cell_type": "code",
   "execution_count": 4,
   "id": "09468048",
   "metadata": {},
   "outputs": [],
   "source": [
    "Text = StringVar()\n",
    "private_key = StringVar()\n",
    "mode = StringVar()\n",
    "Result = StringVar()"
   ]
  },
  {
   "cell_type": "code",
   "execution_count": 6,
   "id": "faf16c5f",
   "metadata": {},
   "outputs": [],
   "source": [
    "def Encode(key,message):\n",
    "    enc=[]\n",
    "\n",
    "    for i in range(len(message)):\n",
    "        key_c = key[i % len(key)]\n",
    "        enc.append(chr((ord(message[i]) + ord(key_c)) % 256))\n",
    "    return base64.urlsafe_b64encode(\"\".join(enc).encode()).decode()"
   ]
  },
  {
   "cell_type": "code",
   "execution_count": 7,
   "id": "b1d41a24",
   "metadata": {},
   "outputs": [],
   "source": [
    "def Decode(key,message):\n",
    "    dec=[]\n",
    "    message = base64.urlsafe_b64decode(message).decode()\n",
    "\n",
    "    for i in range(len(message)):\n",
    "        key_c = key[i % len(key)]\n",
    "        dec.append(chr((256 + ord(message[i])- ord(key_c)) % 256))\n",
    "    return \"\".join(dec)"
   ]
  },
  {
   "cell_type": "code",
   "execution_count": 8,
   "id": "f5c81a7b",
   "metadata": {},
   "outputs": [],
   "source": [
    "def Mode():\n",
    "    if(mode.get() == 'e'):\n",
    "        Result.set(Encode(private_key.get(), Text.get()))\n",
    "    elif(mode.get() == 'd'):\n",
    "        Result.set(Decode(private_key.get(), Text.get()))\n",
    "    else:\n",
    "        Result.set('Invalid Mode')"
   ]
  },
  {
   "cell_type": "code",
   "execution_count": 9,
   "id": "c0f99b0d",
   "metadata": {},
   "outputs": [],
   "source": [
    "def Exit():\n",
    "    root.destroy()"
   ]
  },
  {
   "cell_type": "code",
   "execution_count": 11,
   "id": "07d4f9bb",
   "metadata": {},
   "outputs": [],
   "source": [
    "def Reset():\n",
    "    Text.set(\"\")\n",
    "    private_key.set(\"\")\n",
    "    mode.set(\"\")\n",
    "    Result.set(\"\")"
   ]
  },
  {
   "cell_type": "code",
   "execution_count": 12,
   "id": "3f843598",
   "metadata": {},
   "outputs": [
    {
     "name": "stderr",
     "output_type": "stream",
     "text": [
      "Exception in Tkinter callback\n",
      "Traceback (most recent call last):\n",
      "  File \"C:\\Users\\Pruth\\anaconda3\\envs\\tensorflow-gpu\\lib\\tkinter\\__init__.py\", line 1892, in __call__\n",
      "    return self.func(*args)\n",
      "  File \"C:\\Users\\Pruth\\AppData\\Local\\Temp/ipykernel_30056/2148354060.py\", line 5, in Mode\n",
      "    Result.set(Decode(private_key.get(), Text.get()))\n",
      "  File \"C:\\Users\\Pruth\\AppData\\Local\\Temp/ipykernel_30056/2123333770.py\", line 3, in Decode\n",
      "    message = base64.urlsafe_b64decode(message).decode()\n",
      "  File \"C:\\Users\\Pruth\\anaconda3\\envs\\tensorflow-gpu\\lib\\base64.py\", line 133, in urlsafe_b64decode\n",
      "    return b64decode(s)\n",
      "  File \"C:\\Users\\Pruth\\anaconda3\\envs\\tensorflow-gpu\\lib\\base64.py\", line 87, in b64decode\n",
      "    return binascii.a2b_base64(s)\n",
      "binascii.Error: Invalid base64-encoded string: number of data characters (5) cannot be 1 more than a multiple of 4\n",
      "Exception in Tkinter callback\n",
      "Traceback (most recent call last):\n",
      "  File \"C:\\Users\\Pruth\\anaconda3\\envs\\tensorflow-gpu\\lib\\tkinter\\__init__.py\", line 1892, in __call__\n",
      "    return self.func(*args)\n",
      "  File \"C:\\Users\\Pruth\\AppData\\Local\\Temp/ipykernel_30056/2148354060.py\", line 5, in Mode\n",
      "    Result.set(Decode(private_key.get(), Text.get()))\n",
      "  File \"C:\\Users\\Pruth\\AppData\\Local\\Temp/ipykernel_30056/2123333770.py\", line 3, in Decode\n",
      "    message = base64.urlsafe_b64decode(message).decode()\n",
      "  File \"C:\\Users\\Pruth\\anaconda3\\envs\\tensorflow-gpu\\lib\\base64.py\", line 133, in urlsafe_b64decode\n",
      "    return b64decode(s)\n",
      "  File \"C:\\Users\\Pruth\\anaconda3\\envs\\tensorflow-gpu\\lib\\base64.py\", line 87, in b64decode\n",
      "    return binascii.a2b_base64(s)\n",
      "binascii.Error: Invalid base64-encoded string: number of data characters (5) cannot be 1 more than a multiple of 4\n",
      "Exception in Tkinter callback\n",
      "Traceback (most recent call last):\n",
      "  File \"C:\\Users\\Pruth\\anaconda3\\envs\\tensorflow-gpu\\lib\\tkinter\\__init__.py\", line 1892, in __call__\n",
      "    return self.func(*args)\n",
      "  File \"C:\\Users\\Pruth\\AppData\\Local\\Temp/ipykernel_30056/2148354060.py\", line 5, in Mode\n",
      "    Result.set(Decode(private_key.get(), Text.get()))\n",
      "  File \"C:\\Users\\Pruth\\AppData\\Local\\Temp/ipykernel_30056/2123333770.py\", line 3, in Decode\n",
      "    message = base64.urlsafe_b64decode(message).decode()\n",
      "  File \"C:\\Users\\Pruth\\anaconda3\\envs\\tensorflow-gpu\\lib\\base64.py\", line 133, in urlsafe_b64decode\n",
      "    return b64decode(s)\n",
      "  File \"C:\\Users\\Pruth\\anaconda3\\envs\\tensorflow-gpu\\lib\\base64.py\", line 87, in b64decode\n",
      "    return binascii.a2b_base64(s)\n",
      "binascii.Error: Invalid base64-encoded string: number of data characters (5) cannot be 1 more than a multiple of 4\n",
      "Exception in Tkinter callback\n",
      "Traceback (most recent call last):\n",
      "  File \"C:\\Users\\Pruth\\anaconda3\\envs\\tensorflow-gpu\\lib\\tkinter\\__init__.py\", line 1892, in __call__\n",
      "    return self.func(*args)\n",
      "  File \"C:\\Users\\Pruth\\AppData\\Local\\Temp/ipykernel_30056/2148354060.py\", line 5, in Mode\n",
      "    Result.set(Decode(private_key.get(), Text.get()))\n",
      "  File \"C:\\Users\\Pruth\\AppData\\Local\\Temp/ipykernel_30056/2123333770.py\", line 3, in Decode\n",
      "    message = base64.urlsafe_b64decode(message).decode()\n",
      "  File \"C:\\Users\\Pruth\\anaconda3\\envs\\tensorflow-gpu\\lib\\base64.py\", line 133, in urlsafe_b64decode\n",
      "    return b64decode(s)\n",
      "  File \"C:\\Users\\Pruth\\anaconda3\\envs\\tensorflow-gpu\\lib\\base64.py\", line 87, in b64decode\n",
      "    return binascii.a2b_base64(s)\n",
      "binascii.Error: Invalid base64-encoded string: number of data characters (5) cannot be 1 more than a multiple of 4\n",
      "Exception in Tkinter callback\n",
      "Traceback (most recent call last):\n",
      "  File \"C:\\Users\\Pruth\\anaconda3\\envs\\tensorflow-gpu\\lib\\tkinter\\__init__.py\", line 1892, in __call__\n",
      "    return self.func(*args)\n",
      "  File \"C:\\Users\\Pruth\\AppData\\Local\\Temp/ipykernel_30056/2148354060.py\", line 5, in Mode\n",
      "    Result.set(Decode(private_key.get(), Text.get()))\n",
      "  File \"C:\\Users\\Pruth\\AppData\\Local\\Temp/ipykernel_30056/2123333770.py\", line 3, in Decode\n",
      "    message = base64.urlsafe_b64decode(message).decode()\n",
      "  File \"C:\\Users\\Pruth\\anaconda3\\envs\\tensorflow-gpu\\lib\\base64.py\", line 133, in urlsafe_b64decode\n",
      "    return b64decode(s)\n",
      "  File \"C:\\Users\\Pruth\\anaconda3\\envs\\tensorflow-gpu\\lib\\base64.py\", line 87, in b64decode\n",
      "    return binascii.a2b_base64(s)\n",
      "binascii.Error: Invalid base64-encoded string: number of data characters (5) cannot be 1 more than a multiple of 4\n"
     ]
    }
   ],
   "source": [
    "Label(root, font= 'arial 12 bold', text='MESSAGE').place(x= 60,y=60)\n",
    "Entry(root, font = 'arial 10', textvariable = Text, bg = 'ghost white').place(x=290, y = 60)\n",
    "\n",
    "Label(root, font = 'arial 12 bold', text ='KEY').place(x=60, y = 90)\n",
    "Entry(root, font = 'arial 10', textvariable = private_key , bg ='ghost white').place(x=290, y = 90)\n",
    "\n",
    "Label(root, font = 'arial 12 bold', text ='MODE(e-encode, d-decode)').place(x=60, y = 120)\n",
    "Entry(root, font = 'arial 10', textvariable = mode , bg= 'ghost white').place(x=290, y = 120)\n",
    "Entry(root, font = 'arial 10 bold', textvariable = Result, bg ='ghost white').place(x=290, y = 150)\n",
    "\n",
    "Button(root, font = 'arial 10 bold', text = 'RESULT'  ,padx =2,bg ='LightGray' ,command = Mode).place(x=60, y = 150)\n",
    "\n",
    "Button(root, font = 'arial 10 bold' ,text ='RESET' ,width =6, command = Reset,bg = 'LimeGreen', padx=2).place(x=80, y = 190)\n",
    "\n",
    "Button(root, font = 'arial 10 bold',text= 'EXIT' , width = 6, command = Exit,bg = 'OrangeRed', padx=2, pady=2).place(x=180, y = 190)\n",
    "\n",
    "root.mainloop()"
   ]
  },
  {
   "cell_type": "code",
   "execution_count": null,
   "id": "8250e070",
   "metadata": {},
   "outputs": [],
   "source": []
  }
 ],
 "metadata": {
  "kernelspec": {
   "display_name": "Python 3 (ipykernel)",
   "language": "python",
   "name": "python3"
  },
  "language_info": {
   "codemirror_mode": {
    "name": "ipython",
    "version": 3
   },
   "file_extension": ".py",
   "mimetype": "text/x-python",
   "name": "python",
   "nbconvert_exporter": "python",
   "pygments_lexer": "ipython3",
   "version": "3.9.7"
  }
 },
 "nbformat": 4,
 "nbformat_minor": 5
}
